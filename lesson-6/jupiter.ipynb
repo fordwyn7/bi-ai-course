{
 "cells": [
  {
   "cell_type": "code",
   "execution_count": 18,
   "id": "3da33da9",
   "metadata": {},
   "outputs": [],
   "source": [
    "def simple_generator():\n",
    "    print(\"first running\")\n",
    "    yield 1\n",
    "    print(\"second running\")\n",
    "    yield 2\n",
    "    print(\"third running\")\n",
    "    yield 3\n",
    "\n",
    "gen = simple_generator()"
   ]
  },
  {
   "cell_type": "code",
   "execution_count": null,
   "id": "ee68065a",
   "metadata": {},
   "outputs": [],
   "source": [
    "try:\n",
    "    1 / 0\n",
    "except ZeroDivisionError:\n",
    "    print(\"ZeroDivisionError caught\")\n",
    "else:\n",
    "    print(\"No exception occurred\")\n",
    "finally:\n",
    "    print(\"finally block executed\")\n",
    "    "
   ]
  },
  {
   "cell_type": "code",
   "execution_count": null,
   "id": "d47b5aff",
   "metadata": {},
   "outputs": [],
   "source": []
  }
 ],
 "metadata": {
  "kernelspec": {
   "display_name": "Python 3",
   "language": "python",
   "name": "python3"
  },
  "language_info": {
   "codemirror_mode": {
    "name": "ipython",
    "version": 3
   },
   "file_extension": ".py",
   "mimetype": "text/x-python",
   "name": "python",
   "nbconvert_exporter": "python",
   "pygments_lexer": "ipython3",
   "version": "3.12.3"
  }
 },
 "nbformat": 4,
 "nbformat_minor": 5
}
